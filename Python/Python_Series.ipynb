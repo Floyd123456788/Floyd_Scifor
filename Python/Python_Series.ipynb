{
 "cells": [
  {
   "cell_type": "code",
   "execution_count": 1,
   "id": "9f73ee77",
   "metadata": {},
   "outputs": [],
   "source": [
    "import pandas as pd\n",
    "import numpy as np"
   ]
  },
  {
   "cell_type": "markdown",
   "id": "542524a0",
   "metadata": {},
   "source": [
    "1- create a series object s1 which holds the values in the list format"
   ]
  },
  {
   "cell_type": "code",
   "execution_count": 3,
   "id": "eba76d6d",
   "metadata": {},
   "outputs": [
    {
     "data": {
      "text/plain": [
       "['efg', 'hfg', 'rkh']"
      ]
     },
     "execution_count": 3,
     "metadata": {},
     "output_type": "execute_result"
    }
   ],
   "source": [
    "S1=[\"efg\",\"hfg\",\"rkh\"]\n",
    "\n",
    "ser=pd.Series(S1)\n",
    "S1"
   ]
  },
  {
   "cell_type": "markdown",
   "id": "3d62aa68",
   "metadata": {},
   "source": [
    "2- create a series object which stores the initial budget value (30000) for each quarter of the year."
   ]
  },
  {
   "cell_type": "code",
   "execution_count": 4,
   "id": "e1eac627",
   "metadata": {},
   "outputs": [
    {
     "data": {
      "text/plain": [
       "Qtr 1    30000\n",
       "Qtr 2    30000\n",
       "Qtr 3    30000\n",
       "Qtr 4    30000\n",
       "dtype: int64"
      ]
     },
     "execution_count": 4,
     "metadata": {},
     "output_type": "execute_result"
    }
   ],
   "source": [
    "ser= pd.Series(30000,index=[\"Qtr 1\",\"Qtr 2\",\"Qtr 3\",\"Qtr 4\"])\n",
    "ser"
   ]
  },
  {
   "cell_type": "markdown",
   "id": "11058418",
   "metadata": {},
   "source": [
    "3-create a series object using the ndarray which has 10 elements in the range of 0 to 70"
   ]
  },
  {
   "cell_type": "code",
   "execution_count": 5,
   "id": "d14ac362",
   "metadata": {},
   "outputs": [
    {
     "data": {
      "text/plain": [
       "0     2\n",
       "1     5\n",
       "2    19\n",
       "3    25\n",
       "4    35\n",
       "5    44\n",
       "6    56\n",
       "7    62\n",
       "8    68\n",
       "9    69\n",
       "dtype: int32"
      ]
     },
     "execution_count": 5,
     "metadata": {},
     "output_type": "execute_result"
    }
   ],
   "source": [
    "ser=np.array([2,5,19,25,35,44,56,62,68,69])\n",
    "sr=pd.Series(ser)\n",
    "sr"
   ]
  },
  {
   "cell_type": "markdown",
   "id": "78e6ed30",
   "metadata": {},
   "source": [
    "4- create a series object using the dictionary which stores the total hindi marks of the students in each 4 sections."
   ]
  },
  {
   "cell_type": "code",
   "execution_count": 7,
   "id": "720d7d56",
   "metadata": {},
   "outputs": [
    {
     "data": {
      "text/plain": [
       "shovin     30\n",
       "sherwin    60\n",
       "yukta      70\n",
       "relwin     80\n",
       "dtype: int64"
      ]
     },
     "execution_count": 7,
     "metadata": {},
     "output_type": "execute_result"
    }
   ],
   "source": [
    "dic= {\"shovin\":30,\"sherwin\":60,\"yukta\":70,\"relwin\":80}\n",
    "ser=pd.Series(dic)\n",
    "ser"
   ]
  },
  {
   "cell_type": "markdown",
   "id": "d2ae579d",
   "metadata": {},
   "source": [
    "5- the total number of questions asked in an exam is 200 , which held in every 2 years. create a series object which stores these 200 questions in the time period from 2002 to 2023"
   ]
  },
  {
   "cell_type": "code",
   "execution_count": 12,
   "id": "08adbf72",
   "metadata": {},
   "outputs": [
    {
     "name": "stdout",
     "output_type": "stream",
     "text": [
      "2002    200\n",
      "2004    200\n",
      "2006    200\n",
      "2008    200\n",
      "2010    200\n",
      "2012    200\n",
      "2014    200\n",
      "2016    200\n",
      "2018    200\n",
      "2020    200\n",
      "2022    200\n",
      "dtype: int64\n"
     ]
    }
   ],
   "source": [
    "ser=pd.Series(200,index=[i for i in range(2002,2023,2)])\n",
    "print(ser)"
   ]
  },
  {
   "cell_type": "code",
   "execution_count": null,
   "id": "f2b2a5e7",
   "metadata": {},
   "outputs": [],
   "source": []
  }
 ],
 "metadata": {
  "kernelspec": {
   "display_name": "Python 3 (ipykernel)",
   "language": "python",
   "name": "python3"
  },
  "language_info": {
   "codemirror_mode": {
    "name": "ipython",
    "version": 3
   },
   "file_extension": ".py",
   "mimetype": "text/x-python",
   "name": "python",
   "nbconvert_exporter": "python",
   "pygments_lexer": "ipython3",
   "version": "3.10.9"
  }
 },
 "nbformat": 4,
 "nbformat_minor": 5
}
