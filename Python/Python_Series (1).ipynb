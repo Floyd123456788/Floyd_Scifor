{
 "cells": [
  {
   "cell_type": "code",
   "execution_count": 1,
   "id": "afce4bde",
   "metadata": {},
   "outputs": [],
   "source": [
    "import pandas as pd\n",
    "import numpy as np"
   ]
  },
  {
   "cell_type": "markdown",
   "id": "17b782f9",
   "metadata": {},
   "source": [
    "Q1 - Create a series object which stores the total number of candidates in the 5 sections of an MNC company also gives the name of section. Write a code to modify the value of 2nd section to any value of your choice and the section number 4th & 5th needs to be modified."
   ]
  },
  {
   "cell_type": "code",
   "execution_count": 5,
   "id": "bb54ead2",
   "metadata": {},
   "outputs": [
    {
     "data": {
      "text/plain": [
       "HR department          10\n",
       "account derpartment    20\n",
       "computer departmenr    30\n",
       "manager department     40\n",
       "IT department          50\n",
       "dtype: int64"
      ]
     },
     "execution_count": 5,
     "metadata": {},
     "output_type": "execute_result"
    }
   ],
   "source": [
    "S1=pd.Series(data=[10,20,30,40,50],index=['HR department','account derpartment','computer departmenr','manager department','IT department'])\n",
    "S1"
   ]
  },
  {
   "cell_type": "code",
   "execution_count": 7,
   "id": "be6ddd63",
   "metadata": {},
   "outputs": [
    {
     "data": {
      "text/plain": [
       "HR department          10\n",
       "account derpartment    30\n",
       "computer departmenr    30\n",
       "manager department     60\n",
       "IT department          70\n",
       "dtype: int64"
      ]
     },
     "execution_count": 7,
     "metadata": {},
     "output_type": "execute_result"
    }
   ],
   "source": [
    "S1[1]=30\n",
    "S1['manager department']=60\n",
    "S1['IT department']=70\n",
    "S1"
   ]
  },
  {
   "cell_type": "markdown",
   "id": "690be7e2",
   "metadata": {},
   "source": [
    "Q2 - Consider the two series objects as A1(class 11) & A2(12) which storing the total number of students in 3 streams Science, commerce and humanities. Write a code to find the total number of students of both the series objects stream vise."
   ]
  },
  {
   "cell_type": "code",
   "execution_count": 16,
   "id": "d0ec18ed",
   "metadata": {},
   "outputs": [
    {
     "name": "stdout",
     "output_type": "stream",
     "text": [
      "Science       12\n",
      "commerce      13\n",
      "humanities    14\n",
      "dtype: int64\n",
      "Science       15\n",
      "commerce      16\n",
      "humanities    17\n",
      "dtype: int64\n"
     ]
    }
   ],
   "source": [
    "A1=pd.Series(data=[12,13,14],index=['Science','commerce','humanities'])\n",
    "A2=pd.Series(data=[15,16,17],index=['Science','commerce','humanities'])\n",
    "print(A1)\n",
    "print(A2)"
   ]
  },
  {
   "cell_type": "code",
   "execution_count": 13,
   "id": "84833f9e",
   "metadata": {},
   "outputs": [
    {
     "data": {
      "text/plain": [
       "Science       27\n",
       "commerce      29\n",
       "humanities    31\n",
       "dtype: int64"
      ]
     },
     "execution_count": 13,
     "metadata": {},
     "output_type": "execute_result"
    }
   ],
   "source": [
    "A1+A2"
   ]
  },
  {
   "cell_type": "markdown",
   "id": "36e67c76",
   "metadata": {},
   "source": [
    "Q3 - Create the object 1 as population storing the details of populations in 4 different metro cities of India and object 2 is average income stores the total average income of the population in the 4 metro cities. Calcualte income per capita for each of these metro cities."
   ]
  },
  {
   "cell_type": "code",
   "execution_count": 25,
   "id": "a5d64207",
   "metadata": {},
   "outputs": [
    {
     "name": "stdout",
     "output_type": "stream",
     "text": [
      "Bangalore    5000\n",
      "mumbai       6000\n",
      "delhi        7000\n",
      "chennai      8000\n",
      "dtype: int64\n",
      "Bangalore    30000\n",
      "mumbai       40000\n",
      "delhi        50000\n",
      "chennai      70000\n",
      "dtype: int64\n"
     ]
    }
   ],
   "source": [
    "S1=pd.Series(data=[5000,6000,7000,8000],index=['Bangalore','mumbai','delhi','chennai'])\n",
    "S2=pd.Series(data=[30000,40000,50000,70000],index=['Bangalore','mumbai','delhi','chennai'])\n",
    "print(S1)\n",
    "print(S2)"
   ]
  },
  {
   "cell_type": "code",
   "execution_count": 26,
   "id": "91b05e11",
   "metadata": {},
   "outputs": [
    {
     "data": {
      "text/plain": [
       "Bangalore    6.000000\n",
       "mumbai       6.666667\n",
       "delhi        7.142857\n",
       "chennai      8.750000\n",
       "dtype: float64"
      ]
     },
     "execution_count": 26,
     "metadata": {},
     "output_type": "execute_result"
    }
   ],
   "source": [
    "S2/S1"
   ]
  },
  {
   "cell_type": "markdown",
   "id": "e18e1c89",
   "metadata": {},
   "source": [
    "Q4 - Create a series object S2 which stores the charity contribution made by 4 sections A,B,C,D. Write a code to display the sections who has displayed the contribution more than 8000"
   ]
  },
  {
   "cell_type": "code",
   "execution_count": 30,
   "id": "3d1e1e9f",
   "metadata": {},
   "outputs": [
    {
     "data": {
      "text/plain": [
       "B    60000\n",
       "C    40000\n",
       "dtype: int64"
      ]
     },
     "execution_count": 30,
     "metadata": {},
     "output_type": "execute_result"
    }
   ],
   "source": [
    "S3=pd.Series(data=[5000,60000,40000,3000],index=[\"A\",\"B\",\"C\",\"D\"])\n",
    "S3[S3>8000]"
   ]
  },
  {
   "cell_type": "code",
   "execution_count": null,
   "id": "3596e668",
   "metadata": {},
   "outputs": [],
   "source": []
  }
 ],
 "metadata": {
  "kernelspec": {
   "display_name": "Python 3 (ipykernel)",
   "language": "python",
   "name": "python3"
  },
  "language_info": {
   "codemirror_mode": {
    "name": "ipython",
    "version": 3
   },
   "file_extension": ".py",
   "mimetype": "text/x-python",
   "name": "python",
   "nbconvert_exporter": "python",
   "pygments_lexer": "ipython3",
   "version": "3.10.9"
  }
 },
 "nbformat": 4,
 "nbformat_minor": 5
}
