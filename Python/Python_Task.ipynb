{
 "cells": [
  {
   "cell_type": "markdown",
   "id": "4fa54815",
   "metadata": {},
   "source": [
    "1. Write a Python function that takes a list and returns a new list with distinct elements from\n",
    "the first list."
   ]
  },
  {
   "cell_type": "code",
   "execution_count": 29,
   "id": "557b841b",
   "metadata": {},
   "outputs": [
    {
     "name": "stdout",
     "output_type": "stream",
     "text": [
      "[1, 2, 3]\n"
     ]
    }
   ],
   "source": [
    "def unique_list(l):\n",
    "    x = []\n",
    "    for a in l:\n",
    "        if a not in x:\n",
    "            x.append(a)\n",
    "    return x\n",
    "\n",
    "print(unique_list([1, 2, 3, 1, 2]))"
   ]
  },
  {
   "cell_type": "markdown",
   "id": "57849edd",
   "metadata": {},
   "source": [
    "2. Write a Python program to access a function inside a function."
   ]
  },
  {
   "cell_type": "code",
   "execution_count": 3,
   "id": "6d05c04d",
   "metadata": {},
   "outputs": [
    {
     "name": "stdout",
     "output_type": "stream",
     "text": [
      "9\n"
     ]
    }
   ],
   "source": [
    "def test(x):\n",
    "    def add(y):\n",
    "        nonlocal x\n",
    "        x+=1\n",
    "        return x+y\n",
    "    return add \n",
    "function = test(4)\n",
    "print(function(4))"
   ]
  },
  {
   "cell_type": "markdown",
   "id": "c4bf5572",
   "metadata": {},
   "source": [
    "3. Use a loop to display elements from a given list present at odd index positions."
   ]
  },
  {
   "cell_type": "code",
   "execution_count": 2,
   "id": "760ded57",
   "metadata": {},
   "outputs": [
    {
     "name": "stdout",
     "output_type": "stream",
     "text": [
      "0 - 10\n",
      "1 - 30\n",
      "2 - 40\n",
      "3 - 50\n",
      "4 - 60\n",
      "5 - 79\n",
      "6 - 80\n"
     ]
    }
   ],
   "source": [
    "list= [10,30,40,50,60,79,80]\n",
    "\n",
    "for index in range (len(list)):\n",
    "    value=list[index]\n",
    "    print(index,\"-\",value)"
   ]
  },
  {
   "cell_type": "markdown",
   "id": "b0d2095f",
   "metadata": {},
   "source": [
    "4. Write a program to print the following star pattern using the for loop"
   ]
  },
  {
   "cell_type": "code",
   "execution_count": 19,
   "id": "8299ad62",
   "metadata": {},
   "outputs": [
    {
     "name": "stdout",
     "output_type": "stream",
     "text": [
      "*\n",
      "**\n",
      "***\n",
      "****\n",
      "*****\n",
      "*****\n",
      "****\n",
      "***\n",
      "**\n",
      "*\n"
     ]
    }
   ],
   "source": [
    "for i in range(1,6):\n",
    "    for j in range(1,i+1):\n",
    "        print(\"*\",end=\"\")\n",
    "    print()\n",
    "for i in range(1,6):\n",
    "    for j in range(1,7-i):\n",
    "        print(\"*\",end=\"\")\n",
    "    print()"
   ]
  },
  {
   "cell_type": "markdown",
   "id": "bf3ca698",
   "metadata": {},
   "source": [
    "5. Write a program to accept a number from a user and calculate the sum of all numbers\n",
    "from 1 to a given number"
   ]
  },
  {
   "cell_type": "code",
   "execution_count": 23,
   "id": "ffb1eb02",
   "metadata": {},
   "outputs": [
    {
     "name": "stdout",
     "output_type": "stream",
     "text": [
      "Enter the last number:5\n",
      "Sum of numbers = 15\n"
     ]
    }
   ],
   "source": [
    "add=0\n",
    "given_number=int(input(\"Enter the last number:\"))\n",
    "for i in range(1,given_number+1):\n",
    "    add=add+i\n",
    "print(\"Sum of numbers =\",add)"
   ]
  },
  {
   "cell_type": "markdown",
   "id": "cbb83f46",
   "metadata": {},
   "source": [
    "6. Write a program to increase those values in the given Pandas Series by 50 which are\n",
    "less than 70."
   ]
  },
  {
   "cell_type": "code",
   "execution_count": 32,
   "id": "ac08b51c",
   "metadata": {},
   "outputs": [
    {
     "name": "stdout",
     "output_type": "stream",
     "text": [
      "Before: 0    50\n",
      "1    60\n",
      "2    70\n",
      "3    75\n",
      "4    65\n",
      "dtype: int64\n",
      "After: 0    100\n",
      "1    110\n",
      "2     70\n",
      "3     75\n",
      "4    115\n",
      "dtype: int64\n"
     ]
    }
   ],
   "source": [
    "import pandas as pd\n",
    "\n",
    "def increase_values(series):\n",
    "    for i in range(len(series)):\n",
    "        if series[i] < 70:\n",
    "            series[i] += 50\n",
    "    return series\n",
    "print(\"Before:\", series)\n",
    "series = increase_values(series)\n",
    "print(\"After:\", series)\n",
    "\n",
    "data = [50, 60, 70, 80, 90]\n",
    "series = pd.Series(data)"
   ]
  },
  {
   "cell_type": "code",
   "execution_count": null,
   "id": "99089696",
   "metadata": {},
   "outputs": [],
   "source": []
  }
 ],
 "metadata": {
  "kernelspec": {
   "display_name": "Python 3 (ipykernel)",
   "language": "python",
   "name": "python3"
  },
  "language_info": {
   "codemirror_mode": {
    "name": "ipython",
    "version": 3
   },
   "file_extension": ".py",
   "mimetype": "text/x-python",
   "name": "python",
   "nbconvert_exporter": "python",
   "pygments_lexer": "ipython3",
   "version": "3.10.9"
  }
 },
 "nbformat": 4,
 "nbformat_minor": 5
}
